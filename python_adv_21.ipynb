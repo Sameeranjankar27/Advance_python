{
  "nbformat": 4,
  "nbformat_minor": 0,
  "metadata": {
    "colab": {
      "provenance": []
    },
    "kernelspec": {
      "name": "python3",
      "display_name": "Python 3"
    },
    "language_info": {
      "name": "python"
    }
  },
  "cells": [
    {
      "cell_type": "code",
      "execution_count": null,
      "metadata": {
        "id": "8Xiq15to3-eV"
      },
      "outputs": [],
      "source": [
        "Q1. What is a probability distribution, exactly? If the values are meant to be random, how can you predict them at all ?\n",
        "Ans: A probability distribution describes how a random variable is distributed.\n",
        "\n",
        "It tells us which values a random variable is most likely to take on and which values are less likely. Based on the previous data and the occurences of the random event, we can predict the outcome in terms of probabilities.\n",
        "\n",
        "Q2. Is there a distinction between true random numbers and pseudo-random numbers, if there is one? Why are the latter considered “good enough”?\n",
        "Ans: : True Random Numbers are true physical values while pseudo-random numbers are generated internally by a program . Latter is considered good enough as they have sort of uniform distribution.\n",
        "\n",
        "Q3. What are the two main factors that influence the behaviour of a \"normal\" probability distribution ?\n",
        "Ans: Normal Probability Distribution are influenced by two factors mean and the variance.\n",
        "\n",
        "Q4. Provide a real-life example of a normal distribution ?\n",
        "Ans: A Real-life example of a normal distribution are heights or blood pressure measurements\n",
        "\n",
        "Q5. In the short term, how can you expect a probability distribution to behave? What do you think will happen as the number of trials grows ?\n",
        "Ans: Variance will decrease with number of trials"
      ]
    },
    {
      "cell_type": "code",
      "source": [
        "Q5. In the short term, how can you expect a probability distribution to behave? What do you think will happen as the number of trials grows ?\n",
        "Ans: Variance will decrease with number of trials\n",
        "\n",
        "Q6. What kind of object can be shuffled by using random.shuffle ?\n",
        "Ans: lists (list), strings (str) and tuples (tuple) objects can be shuffled by using random.shuffle.\n",
        "\n",
        "Q7. Describe the math package's general categories of functions ?\n",
        "Ans: The Math package's general categories of functions are:\n",
        "\n",
        "Trigonometric functions\n",
        "Quadratic functions\n",
        "Exponential functions\n",
        "Hyperbolic functions\n",
        "Periodic functions\n",
        "Arithmetic functions\n",
        "Logarithimic functions\n",
        "Conversions to Integer\n",
        "Q8. What is the relationship between exponentiation and logarithms ?\n",
        "Ans: Exponentiation and logarithms are inverse of each other."
      ],
      "metadata": {
        "id": "JGCJ3QZ24CAs"
      },
      "execution_count": null,
      "outputs": []
    },
    {
      "cell_type": "code",
      "source": [
        "Q9. What are the three logarithmic functions that Python supports ?\n",
        "Ans: The Three Logarithmic Functions that Python supports are:\n",
        "\n",
        "log2(x) - logarithmic value of x to base 2\n",
        "log10(x) - logarithmic value of x to base 10\n",
        "log1p(a) - This function is used to compute logarithm(1+a) ."
      ],
      "metadata": {
        "id": "p103Zvae4CDS"
      },
      "execution_count": null,
      "outputs": []
    },
    {
      "cell_type": "code",
      "source": [],
      "metadata": {
        "id": "hZeZV_Oh4CF5"
      },
      "execution_count": null,
      "outputs": []
    },
    {
      "cell_type": "code",
      "source": [],
      "metadata": {
        "id": "9_feTXo44CIM"
      },
      "execution_count": null,
      "outputs": []
    },
    {
      "cell_type": "code",
      "source": [],
      "metadata": {
        "id": "HfRUSd1G4CLF"
      },
      "execution_count": null,
      "outputs": []
    },
    {
      "cell_type": "code",
      "source": [],
      "metadata": {
        "id": "rOT-o0fI4CN9"
      },
      "execution_count": null,
      "outputs": []
    },
    {
      "cell_type": "code",
      "source": [],
      "metadata": {
        "id": "FlZZ4D4Q4CPv"
      },
      "execution_count": null,
      "outputs": []
    },
    {
      "cell_type": "code",
      "source": [],
      "metadata": {
        "id": "kwoyxeJ-4CTw"
      },
      "execution_count": null,
      "outputs": []
    },
    {
      "cell_type": "code",
      "source": [],
      "metadata": {
        "id": "oIIcZBMg4CXP"
      },
      "execution_count": null,
      "outputs": []
    }
  ]
}