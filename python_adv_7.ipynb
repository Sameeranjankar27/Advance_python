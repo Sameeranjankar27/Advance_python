{
  "nbformat": 4,
  "nbformat_minor": 0,
  "metadata": {
    "colab": {
      "provenance": []
    },
    "kernelspec": {
      "name": "python3",
      "display_name": "Python 3"
    },
    "language_info": {
      "name": "python"
    }
  },
  "cells": [
    {
      "cell_type": "code",
      "execution_count": null,
      "metadata": {
        "id": "oqRAzjm6rKVg"
      },
      "outputs": [],
      "source": [
        "Q1. What is the purpose of the try statement?\n",
        "Ans: try statement is used for exception handling in python. it consists of a block of risky statements which might cause an exception during runtime. if code within try block raises exception, then the exception will be reverted to the corresponding except block if multiple except blocks are present, else it willbe reverted to the default except block. In short try and except in union avoid programs from crashing during runtime due to exceptions.\n",
        "\n",
        "try:\n",
        "    print(10/0)\n",
        "except ZeroDivisionError:\n",
        "    print('Division by Zero is Not Possible')"
      ]
    },
    {
      "cell_type": "code",
      "source": [
        "Q2. What are the two most popular try statement variations?\n",
        "Ans: The Popular try statement variations are:\n",
        "\n",
        "try,except\n",
        "try,except,finally\n",
        "try,except,finally,else\n",
        "The try block is used to check code for exceptions during runtime. ie code inside try block will execute completely when there is no error in the program. Whereas the code inside except block will execute whenever the program encounters some error in the preceeding try block.\n",
        "\n",
        "Whereas the code enters the else block if and only if the try clause does not raise and exception. \n",
        "The code in the finally block will execute irrespective of exception.\n",
        "\n",
        "Q3. What is the purpose of the raise statement?\n",
        "Ans: raise statement is used to trigger an exception explicitly, if a certain condition is not as per requirement of programmer. \n",
        "raise statement helps in triggering exception as per programming logic."
      ],
      "metadata": {
        "id": "j7lOvCCPrMkq"
      },
      "execution_count": null,
      "outputs": []
    },
    {
      "cell_type": "code",
      "source": [
        "Q4. What does the assert statement do, and what other statement is it like?\n",
        "Ans: There are few assertions that programmer always want to be true to avoid code failure. This type of requirement is fulfilled by assert statement. This statement takes a boolean condition output of which is True, Further Program Executes. if output of assert statement is False, it raises an Assertion Error.\n",
        "\n",
        "assert(2 == 4), f'this is not a valid statement'"
      ],
      "metadata": {
        "id": "JNgfyusHrMnV"
      },
      "execution_count": null,
      "outputs": []
    },
    {
      "cell_type": "code",
      "source": [
        "Q5. What is the purpose of the with/as argument, and what other statement is it like?\n",
        "Ans: with/as statement simplifies use of file handling in python. When we use a with statement for file reading, there is no need for programmer to explicitly takecare of activities like resource deallocation and file closing by using file.close() method. with statement itself ensures proper acquisition and release of resources. this avoids triggering of exceptions if file closing is unknowingly forgotten in the code execution.\n",
        "\n",
        "with open('sample_file.txt','w') as file: file.write('Hello World')"
      ],
      "metadata": {
        "id": "BrvceGpUrMpq"
      },
      "execution_count": null,
      "outputs": []
    },
    {
      "cell_type": "code",
      "source": [],
      "metadata": {
        "id": "dvLJ9xbTrMsB"
      },
      "execution_count": null,
      "outputs": []
    },
    {
      "cell_type": "code",
      "source": [],
      "metadata": {
        "id": "AtjUzu_TrMuY"
      },
      "execution_count": null,
      "outputs": []
    },
    {
      "cell_type": "code",
      "source": [],
      "metadata": {
        "id": "aOS61RserMxP"
      },
      "execution_count": null,
      "outputs": []
    },
    {
      "cell_type": "code",
      "source": [],
      "metadata": {
        "id": "0nRZXzRtrMzk"
      },
      "execution_count": null,
      "outputs": []
    },
    {
      "cell_type": "code",
      "source": [],
      "metadata": {
        "id": "ozffKjWirM2_"
      },
      "execution_count": null,
      "outputs": []
    }
  ]
}