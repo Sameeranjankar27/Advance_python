{
  "nbformat": 4,
  "nbformat_minor": 0,
  "metadata": {
    "colab": {
      "provenance": []
    },
    "kernelspec": {
      "name": "python3",
      "display_name": "Python 3"
    },
    "language_info": {
      "name": "python"
    }
  },
  "cells": [
    {
      "cell_type": "code",
      "execution_count": null,
      "metadata": {
        "id": "7l-8wWgFxRCM"
      },
      "outputs": [],
      "source": [
        "Q1. Define the relationship between a class and its instances. Is it a one-to-one or a one-to-many partnership, for example?\n",
        "Ans: Relationship between a class and its instances is a one to many partnership.\n",
        "\n",
        "Q2. What kind of data is held only in an instance?\n",
        "Ans: Instance objects contains the Instance variables which are specific to that specific Instance object.\n",
        "\n",
        "Q3. What kind of knowledge is stored in a class?\n",
        "Ans: Class creates a user-defined data structure, which holds its own data members and member functions, which can be accessed and used by creating an instance of that class. A class is like a blueprint for an object.\n",
        "\n",
        "Q4. What exactly is a method, and how is it different from a regular function?\n",
        "Ans: The methods with a class can be used to access the insatnce variables of its instance. So,the object's state can be modified by its method. Function can't access the attributes of an instance of a\n",
        " class or can't modify the state of the object."
      ]
    },
    {
      "cell_type": "code",
      "source": [
        "Q5. Is inheritance supported in Python, and if so, what is the syntax?\n",
        "Ans: Yes,Python supports inheritance. The Types of Inheritence Supported by Python are:\n",
        "\n",
        "Simple Inheritence\n",
        "Multiple Inheritence\n",
        "Multilevel lInheritence\n",
        "Hybrid Inheritence\n",
        "Hierracial Inheritence\n",
        "class Person:\n",
        "    def __init__(self, fname, lname):\n",
        "        self.first_name = fname\n",
        "        self.last_name = lname\n",
        "class Student(Person):\n",
        "    pass"
      ],
      "metadata": {
        "id": "g10Hb6aVxRjH"
      },
      "execution_count": null,
      "outputs": []
    },
    {
      "cell_type": "code",
      "source": [
        "Q6. How much encapsulation (making instance or class variables private) does Python support?\n",
        "Ans: Encapsulation describes the idea of wrapping data and the methods that work on data within one unit. This puts restrictions on accessing variables and methods directly\n",
        " and can prevent \n",
        "the accidental modification of data. To prevent accidental change, an objects variable can only be changed by an objects method.\n",
        "\n",
        "Q7. How do you distinguish between a class variable and an instance variable?\n",
        "Ans: The Class Attribute is available to all the instance objects of that class. whereas Instance Attributes are accessible only to the object or Instance of that class.\n",
        "\n",
        "A single copy of Class attributes is maintained by pvm at the class level. Whereas difference copies of instance attributes are maintained by pvm at objects/instance level.\n",
        "\n",
        "Q8. When, if ever, can self be included in a class's method definitions?\n",
        "Ans: Yes, self can included in class method definations to access the instance variables inside class methods.\n",
        "\n",
        "Q9. What is the difference between the __add__ and the __radd__ methods ?\n",
        "Ans: Entering __radd__ Python will first try __add__(), and if that returns Not Implemented Python will check if the right-hand operand implements __radd__, and if it does, \n",
        "it will call __radd__() rather than raising a TypeError"
      ],
      "metadata": {
        "id": "Cns0ZJlHxRlL"
      },
      "execution_count": null,
      "outputs": []
    },
    {
      "cell_type": "code",
      "source": [
        "Q10. When is it necessary to use a reflection method? When do you not need it, even though you support the operation in question?\n",
        "Ans: Reflection method we often encounter the requirement that a method in the executing object, or a variable in the calling object, or a field \n",
        "of the object should be assigned, while the method name or field name can not be determined when encoding the code, and need to be input in the form of passing\n",
        " strings through parameters.\n",
        "\n",
        "Q11. What is the __iadd__ method called?\n",
        "Ans: __iadd__ method is called when we use implementation like a+=b which is a.__iadd__(b)\n",
        "\n",
        "Q12. Is the _ _init_ _ method inherited by subclasses? What do you do if you need to customize its behavior within a subclass ?\n",
        "Ans: Yes, __init__ method will be inherited by subclasses. if we want to customize its behaviour within a subclass we can use super() method."
      ],
      "metadata": {
        "id": "Sap7hXsGxRoy"
      },
      "execution_count": null,
      "outputs": []
    },
    {
      "cell_type": "code",
      "source": [],
      "metadata": {
        "id": "Hl7IIajuxRrB"
      },
      "execution_count": null,
      "outputs": []
    },
    {
      "cell_type": "code",
      "source": [],
      "metadata": {
        "id": "cRbfayV8xRtb"
      },
      "execution_count": null,
      "outputs": []
    },
    {
      "cell_type": "code",
      "source": [],
      "metadata": {
        "id": "0VCgZrenxRv5"
      },
      "execution_count": null,
      "outputs": []
    },
    {
      "cell_type": "code",
      "source": [],
      "metadata": {
        "id": "J2DKiCaExRxS"
      },
      "execution_count": null,
      "outputs": []
    },
    {
      "cell_type": "code",
      "source": [],
      "metadata": {
        "id": "BF1H8RcYxR02"
      },
      "execution_count": null,
      "outputs": []
    }
  ]
}