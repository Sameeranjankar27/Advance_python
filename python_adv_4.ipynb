{
  "nbformat": 4,
  "nbformat_minor": 0,
  "metadata": {
    "colab": {
      "provenance": []
    },
    "kernelspec": {
      "name": "python3",
      "display_name": "Python 3"
    },
    "language_info": {
      "name": "python"
    }
  },
  "cells": [
    {
      "cell_type": "code",
      "execution_count": null,
      "metadata": {
        "id": "BjD4uJCmptss"
      },
      "outputs": [],
      "source": [
        "Q1. Which two operator overloading methods can you use in your classes to support iteration?\n",
        "Ans: __iter__ and __next__ are the operator overloading methods in python that support iteration and are collectively called iterator protocol.\n",
        "\n",
        "__iter__ returns the iterator object and is called at the start of loop in our respective class.\n",
        "__next__ is called at each loop increment, it returns the incremented value. Also Stopiteration is raised when there is no value to return.\n",
        "\n",
        "\n",
        "class Counter:\n",
        "    def __init__(self,low,high):\n",
        "        self.current = low\n",
        "        self.high = high\n",
        "    def __iter__(self):\n",
        "        return self\n",
        "    def __next__(self):\n",
        "        if self.current > self.high:\n",
        "            raise StopIteration\n",
        "        else:\n",
        "            self.current += 1\n",
        "            return self.current - 1\n",
        "for ele in Counter(5,15):\n",
        "    print(ele, end=\" \")"
      ]
    },
    {
      "cell_type": "code",
      "source": [
        "Q2. In what contexts do the two operator overloading methods manage printing?\n",
        "Ans: __str__ and __repr__ are two operator overloading methods that manage printing.\n",
        "\n",
        "In Short, the difference between both these operators is the goal of __repr__ is to be unambiguous and __str__ is to be readable.\n",
        "Whenever we are printing any object reference internally __str__ method will be called by default.\n",
        "The main purpose of __str__ is for readability. it prints the informal string representation of an object, one that is useful for printing the object. it may not be possible to convert result string to original object.\n",
        "__repr__ is used to print official string representation of an object, so it includes all information and development.\n",
        "\n",
        "\n",
        "\n",
        "class Student:\n",
        "    def __init__(self,name,roll_no):\n",
        "        self.name = name\n",
        "        self.roll_no = roll_no\n",
        "        \n",
        "s1 = Student(\"Mano\",1)\n",
        "print(str(s1))\n",
        "\n",
        "class Student:\n",
        "    def __init__(self,name,roll_no):\n",
        "        self.name = name\n",
        "        self.roll_no = roll_no\n",
        "    def __str__(self):\n",
        "        return f'Student Name: {self.name} and Roll No: {self.roll_no}'\n",
        "    \n",
        "s1 = Student(\"Mano\",1)\n",
        "print(str(s1))\n",
        "\n",
        "import datetime\n",
        "today = datetime.datetime.now()\n",
        "\n",
        "s = str(today) # converting datetime object to presentable str\n",
        "print(s)\n",
        "try: d = eval(s) # converting str back to datetime object\n",
        "except: print(\"Unable to convert back to original object\")\n",
        "    \n",
        "u = repr(today) # converting datetime object to str\n",
        "print(u)\n",
        "e = eval(u) # converting str back to datetime object\n",
        "print(e)"
      ],
      "metadata": {
        "id": "lqOkuT4fpvbF"
      },
      "execution_count": null,
      "outputs": []
    },
    {
      "cell_type": "code",
      "source": [
        "Q3. In a class, how do you intercept slice operations?\n",
        "Ans: In a class use of slice() in __getitem__ method is used for intercept slice operation. This slice method is provided with start integer number, stop integer number and step integer number.\n",
        "\n",
        "Example: __getitem__(slice(start,stop,step))"
      ],
      "metadata": {
        "id": "pogjXPTfpvdQ"
      },
      "execution_count": null,
      "outputs": []
    },
    {
      "cell_type": "code",
      "source": [
        "Q4. In a class, how do you capture in-place addition?\n",
        "Ans: a+b is normal addition. Whereas a+=b is inplace addition operation. In this in-place addition a itself will store the value of addition. In a class __iadd__ method is used for this in-place operation\n",
        "\n",
        "class Book:\n",
        "    def __init__(self,pages):\n",
        "        self.pages = pages\n",
        "    def __iadd__(self,other):\n",
        "        self.pages += other.pages\n",
        "        return self.pages\n",
        "        \n",
        "b1 = Book(100)\n",
        "b2 = Book(200)\n",
        "b1+=b2\n",
        "print(b1)"
      ],
      "metadata": {
        "id": "7onbTx5Lpvfv"
      },
      "execution_count": null,
      "outputs": []
    },
    {
      "cell_type": "code",
      "source": [
        "Q5. When is it appropriate to use operator overloading?\n",
        "Ans: Operator overloading is used when we want to use an operator other than its normal operation to have different meaning according to the context required in user defined function.\n",
        "\n",
        "class Book:\n",
        "    def __init__(self,pages):\n",
        "        self.pages = pages\n",
        "    def __add__(self,other):\n",
        "        return self.pages+other.pages\n",
        "b1 = Book(100)\n",
        "b2 = Book(200)\n",
        "print(f'Total Number of Pages -> {b1+b2}')"
      ],
      "metadata": {
        "id": "n2w-fvijpvh_"
      },
      "execution_count": null,
      "outputs": []
    },
    {
      "cell_type": "code",
      "source": [],
      "metadata": {
        "id": "ysDFe-Q9pvkT"
      },
      "execution_count": null,
      "outputs": []
    },
    {
      "cell_type": "code",
      "source": [],
      "metadata": {
        "id": "M2AQqSnfpvm3"
      },
      "execution_count": null,
      "outputs": []
    },
    {
      "cell_type": "code",
      "source": [],
      "metadata": {
        "id": "bu0yNa9spvpb"
      },
      "execution_count": null,
      "outputs": []
    },
    {
      "cell_type": "code",
      "source": [],
      "metadata": {
        "id": "BibBYkj3pvs4"
      },
      "execution_count": null,
      "outputs": []
    },
    {
      "cell_type": "code",
      "source": [],
      "metadata": {
        "id": "N7t6yNr1pv-e"
      },
      "execution_count": null,
      "outputs": []
    }
  ]
}