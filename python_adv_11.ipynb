{
  "nbformat": 4,
  "nbformat_minor": 0,
  "metadata": {
    "colab": {
      "provenance": []
    },
    "kernelspec": {
      "name": "python3",
      "display_name": "Python 3"
    },
    "language_info": {
      "name": "python"
    }
  },
  "cells": [
    {
      "cell_type": "code",
      "execution_count": null,
      "metadata": {
        "id": "4MUfgFoFtbMm"
      },
      "outputs": [],
      "source": [
        "\n",
        "Q1. What is the concept of a metaclass?\n",
        "Ans: Metaclass in Python is a class of a class that defines how a class behaves. A class is itself a instance of Metaclass, and any Instance of Class in Python is an Instance of type metaclass.\n",
        " E.g. Type of of int, str, float, list, tuple and many more is of metaclass type"
      ]
    },
    {
      "cell_type": "code",
      "source": [
        "Q2. What is the best way to declare a class's metaclass?\n",
        "Ans: A way to declare a class’ metaclass is by using metaclass keyword in class definition.\n",
        "\n",
        "class meta(type):\n",
        "    pass\n",
        "class class_meta(metaclass=meta):\n",
        "    pass\n",
        "print(type(meta))\n",
        "print(type(class_meta))"
      ],
      "metadata": {
        "id": "0kq9ipvrtc6P"
      },
      "execution_count": null,
      "outputs": []
    },
    {
      "cell_type": "code",
      "source": [
        "Q3. How do class decorators overlap with metaclasses for handling classes ?\n",
        "Ans: Anything you can do with a class decorator, you can of course do with a custom metaclasses\n",
        " (just apply the functionality of the \"decorator function\", i.e., the one that takes a class object and modifies it, in the course of \n",
        "  the metaclass's __new__ or __init__ that make the class object!).\n",
        "\n",
        "Q4. How do class decorators overlap with metaclasses for handling instances?\n",
        "Ans: Anything you can do with a class decorator, you can of course do with a custom metaclass (just apply the functionality \n",
        "of the \"decorator function\", i.e., the one that takes a class object and modifies it, in the course of the metaclass's __new__ or __init__ that make the class object!)."
      ],
      "metadata": {
        "id": "-R9febH3tc_L"
      },
      "execution_count": null,
      "outputs": []
    },
    {
      "cell_type": "code",
      "source": [],
      "metadata": {
        "id": "CiphiZoCtdBz"
      },
      "execution_count": null,
      "outputs": []
    },
    {
      "cell_type": "code",
      "source": [],
      "metadata": {
        "id": "Cg5X0_IztdEH"
      },
      "execution_count": null,
      "outputs": []
    },
    {
      "cell_type": "code",
      "source": [],
      "metadata": {
        "id": "87jQl8matdG4"
      },
      "execution_count": null,
      "outputs": []
    },
    {
      "cell_type": "code",
      "source": [],
      "metadata": {
        "id": "I8vmUPlCtdJk"
      },
      "execution_count": null,
      "outputs": []
    },
    {
      "cell_type": "code",
      "source": [],
      "metadata": {
        "id": "uKOdO23jtdNH"
      },
      "execution_count": null,
      "outputs": []
    }
  ]
}