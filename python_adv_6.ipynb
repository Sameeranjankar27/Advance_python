{
  "nbformat": 4,
  "nbformat_minor": 0,
  "metadata": {
    "colab": {
      "provenance": []
    },
    "kernelspec": {
      "name": "python3",
      "display_name": "Python 3"
    },
    "language_info": {
      "name": "python"
    }
  },
  "cells": [
    {
      "cell_type": "code",
      "execution_count": null,
      "metadata": {
        "id": "ovcTV6GtqrIo"
      },
      "outputs": [],
      "source": [
        "Q1. Describe three applications for exception processing.\n",
        "Ans: Exception Processing is important to find exceptions that causes the runtime error. As runtime errors Halt the program execution when exception occurs.\n",
        "\n",
        "Exception Processing is used in Various Applications of which few examples are:\n",
        "\n",
        "Checking Appropriate use of input in an application\n",
        "Checking for Arithmetic exceptions in mathematical executions\n",
        "Checking File I/O exceptions during File handling\n",
        "Q2. What happens if you don't do something extra to treat an exception?\n",
        "Ans: If Exceptions are not handled flow of program will be broken during the run time which might lead to a abnormal termination of the program. Inshort inability of program to handle exceptions will result in crashing of program.\n",
        "\n",
        "Q3. What are your options for recovering from an exception in your script?\n",
        "Ans: Python provides try and except statements for recovering from an exception in your script."
      ]
    },
    {
      "cell_type": "code",
      "source": [
        "Q4. Describe two methods for triggering exceptions in your script ?\n",
        "Ans: raise and assert are two methods that can be used to trigger manual exceptions in your script.\n",
        "\n",
        "raise method triggers an exception if condition provided to it turns out to be True.\n",
        "assert will let the program to continue execution if condition provided to it turns out to be True else exception will be raised\n",
        "# Example of raise\n",
        "x = 10\n",
        "raise Exception(f'X Value Should not exceed 5 The Provided Value of X is {x}')\n",
        "---------------------------------------------------------------------------\n",
        "Exception                                 Traceback (most recent call last)\n",
        "<ipython-input-1-3bda0e4dbc13> in <module>()\n",
        "      1 # Example of raise\n",
        "      2 x = 10\n",
        "----> 3 raise Exception(f'X Value Should not exceed 5 The Provided Value of X is {x}')\n",
        "\n",
        "Exception: X Value Should not exceed 5 The Provided Value of X is 10\n",
        "# Example of assert\n",
        "assert(2==4), \"2 is not equal to 4\"\n",
        "---------------------------------------------------------------------------\n",
        "AssertionError                            Traceback (most recent call last)\n",
        "<ipython-input-2-b3cb1796e5b9> in <module>()\n",
        "      1 # Example of assert\n",
        "      ----> 2 assert(2==4), \"2 is not equal to 4\"\n",
        "\n",
        "AssertionError: 2 is not equal to 4"
      ],
      "metadata": {
        "id": "U0IaR6UGqtMn"
      },
      "execution_count": null,
      "outputs": []
    },
    {
      "cell_type": "code",
      "source": [
        "Q5. Identify two methods for specifying actions to be executed at termination time, regardless of whether or not an exception exists.\n",
        "Ans: Python Provides else and finally blocks for specifying actions to be executed at termination time, regardless of whether an exceptions exists or not."
      ],
      "metadata": {
        "id": "OKDEGR-6qtRe"
      },
      "execution_count": null,
      "outputs": []
    },
    {
      "cell_type": "code",
      "source": [],
      "metadata": {
        "id": "5_97pDSMqtT_"
      },
      "execution_count": null,
      "outputs": []
    },
    {
      "cell_type": "code",
      "source": [],
      "metadata": {
        "id": "sqVxV_6AqtWV"
      },
      "execution_count": null,
      "outputs": []
    },
    {
      "cell_type": "code",
      "source": [],
      "metadata": {
        "id": "BPL1HKV-qtYh"
      },
      "execution_count": null,
      "outputs": []
    },
    {
      "cell_type": "code",
      "source": [],
      "metadata": {
        "id": "jUdNRuIWqtcF"
      },
      "execution_count": null,
      "outputs": []
    },
    {
      "cell_type": "code",
      "source": [],
      "metadata": {
        "id": "JAnHiDuhqtqG"
      },
      "execution_count": null,
      "outputs": []
    },
    {
      "cell_type": "code",
      "source": [],
      "metadata": {
        "id": "R4-v7GhpqtyI"
      },
      "execution_count": null,
      "outputs": []
    }
  ]
}